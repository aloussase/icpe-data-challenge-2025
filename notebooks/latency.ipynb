{
 "cells": [
  {
   "cell_type": "markdown",
   "id": "40045ada-17ef-438d-b77e-610569ec99d9",
   "metadata": {},
   "source": [
    "# ICPE Data Challenge 2024\n",
    "\n",
    "This notebook contains analyses of the Globus dataset with the aim to analyze what proportion of tasks submitted on the platform are not latency-sensitive: that is, they are delayable.\n",
    "\n",
    "Our findings here can further support the idea of delaying tasks in serverless architectures to improve latency and throughput of latency-sensitive tasks, and also result in fewer resource usage and cost for the users of the platform."
   ]
  },
  {
   "cell_type": "code",
   "execution_count": 1,
   "id": "6707336e-304c-4896-aac6-b72935b297eb",
   "metadata": {},
   "outputs": [],
   "source": [
    "import pandas as pd\n",
    "import numpy as np\n",
    "import seaborn as sns\n",
    "import math\n",
    "import matplotlib.pyplot as plt"
   ]
  },
  {
   "cell_type": "code",
   "execution_count": 2,
   "id": "c752f71d-2499-4916-a243-8b355cd42e20",
   "metadata": {},
   "outputs": [],
   "source": [
    "sns.set_style('whitegrid')"
   ]
  },
  {
   "cell_type": "code",
   "execution_count": 3,
   "id": "6fc45e2a-de0c-486d-9f5d-bc4796a0d5a0",
   "metadata": {},
   "outputs": [],
   "source": [
    "tasks = pd.read_csv(\"../datasets/GlobusComputeDataset-v1-tasks.csv\")"
   ]
  },
  {
   "cell_type": "code",
   "execution_count": 4,
   "id": "943d2d35-0a69-4858-9c83-e817cfdd9f5f",
   "metadata": {},
   "outputs": [],
   "source": [
    "tasks = tasks.dropna(subset=['received', 'result_received'])"
   ]
  },
  {
   "cell_type": "code",
   "execution_count": 5,
   "id": "9bc29c8f-0c03-4a1e-9b4a-4b72a72e1f1c",
   "metadata": {},
   "outputs": [],
   "source": [
    "functions = pd.read_csv(\"../datasets/GlobusComputeDataset-v1-functions.csv\")"
   ]
  },
  {
   "cell_type": "markdown",
   "id": "8c5b394f-e21b-4f2c-a2f2-89dfbfa41626",
   "metadata": {},
   "source": [
    "## Analyzing task latencies"
   ]
  },
  {
   "cell_type": "code",
   "execution_count": 17,
   "id": "bf9ad811-3440-4da9-841e-aeffa04b1c91",
   "metadata": {},
   "outputs": [],
   "source": [
    "task_latencies = pd.DataFrame({\"Task latency (seconds)\": (tasks[\"result_received\"] - tasks[\"received\"]) / 1000000000})"
   ]
  },
  {
   "cell_type": "code",
   "execution_count": 18,
   "id": "e006f9a7-20a8-4f1c-ae6b-bceaf1d73269",
   "metadata": {},
   "outputs": [],
   "source": [
    "total_tasks = task_latencies.shape[0]"
   ]
  },
  {
   "cell_type": "code",
   "execution_count": 19,
   "id": "584b718a-baba-4676-9eab-e83da6b23782",
   "metadata": {},
   "outputs": [],
   "source": [
    "latencies_v = task_latencies['Task latency (seconds)']"
   ]
  },
  {
   "cell_type": "code",
   "execution_count": null,
   "id": "5ff30a1b-5544-4700-b73e-7f632b91e177",
   "metadata": {},
   "outputs": [],
   "source": [
    "plt.figure(figsize=(10, 10))\n",
    "\n",
    "ax = sns.histplot(\n",
    "    data=task_latencies,\n",
    "    bins=math.ceil(math.log2(total_tasks) + 1),\n",
    "    log_scale=True\n",
    ")\n",
    "\n",
    "ax.get_legend().remove()\n",
    "\n",
    "for rect in ax.patches:\n",
    "    width, height = rect.get_width(), rect.get_height()\n",
    "    x = rect.get_x()\n",
    "\n",
    "    if height < 50000: continue\n",
    "    \n",
    "    bin_mask = (latencies_v >= x) & (latencies_v < x + width)\n",
    "    bin_mean = latencies_v[bin_mask].mean().mean()\n",
    "    \n",
    "    plt.text(x + width/2., height, f\"{bin_mean:.03}s\", ha='center', va='bottom', rotation=45)\n",
    "\n",
    "plt.ylabel('')\n",
    "plt.xlabel('Task latencies from received to response received (seconds)')"
   ]
  },
  {
   "cell_type": "code",
   "execution_count": null,
   "id": "92a73d3b-30f7-4320-99ca-97912ac7ea76",
   "metadata": {},
   "outputs": [],
   "source": [
    "plt.figure(figsize=(10, 10))\n",
    "\n",
    "ax = sns.histplot(\n",
    "    data=task_latencies,\n",
    "    bins=math.ceil(math.log2(total_tasks) + 1),\n",
    "    log_scale=True, element=\"step\", fill=False,\n",
    "    cumulative=True, stat=\"density\", common_norm=False\n",
    ")\n",
    "\n",
    "ax.get_legend().remove()\n",
    "\n",
    "mean_0_1 = latencies_v[(latencies_v <= 1) & (latencies_v >= 0)].mean()\n",
    "mean_0_2 = latencies_v[(latencies_v > 1) & (latencies_v <= 5)].mean()\n",
    "mean_0_3 = latencies_v[(latencies_v > 5) & (latencies_v <= 100)].mean()\n",
    "\n",
    "plt.axvline(x=1, color='r', linestyle='--', label=f'Mean at [0, 1]')\n",
    "plt.text(1.1, 0.3, f'{mean_0_1:.2f}s', ha=\"left\", va=\"bottom\")\n",
    "\n",
    "plt.axvline(x=5, color='purple', linestyle='--', label=f'Mean at (1, 5]')\n",
    "plt.text(6, 0.5, f'{mean_0_2:.2f}s', ha=\"left\", va=\"bottom\")\n",
    "\n",
    "plt.axvline(x=100, color='g', linestyle='--', label=f'Mean at (5, 100]')\n",
    "plt.text(120, 0.3, f'{mean_0_3:.2f}s', ha=\"left\", va=\"bottom\")\n",
    "\n",
    "plt.legend()\n",
    "\n",
    "plt.ylabel('CDF')\n",
    "plt.xlabel('Task latencies from received to response received (seconds)')"
   ]
  },
  {
   "cell_type": "code",
   "execution_count": 11,
   "id": "76dd45aa-2ca8-492b-9ff4-b1c3fb430f8d",
   "metadata": {},
   "outputs": [],
   "source": [
    "less_than_1_second = latencies_v[latencies_v < 1]\n",
    "more_than_1_second = latencies_v[latencies_v >= 1]\n",
    "more_than_2_seconds = latencies_v[latencies_v >= 2]\n",
    "more_than_5_seconds = latencies_v[latencies_v >= 5]"
   ]
  },
  {
   "cell_type": "code",
   "execution_count": 12,
   "id": "516daa49-414e-4263-a7dc-7ee83b1df347",
   "metadata": {},
   "outputs": [],
   "source": [
    "pct_less_1 = less_than_1_second.shape[0] / total_tasks\n",
    "pct_more_1 = more_than_1_second.shape[0] / total_tasks\n",
    "pct_more_2 = more_than_2_seconds.shape[0] / total_tasks\n",
    "pct_more_5 = more_than_5_seconds.shape[0] / total_tasks"
   ]
  },
  {
   "cell_type": "code",
   "execution_count": null,
   "id": "50702294-8d97-4eb3-a302-198f370a8c57",
   "metadata": {},
   "outputs": [],
   "source": [
    "plt.figure(figsize=(10, 10))\n",
    "\n",
    "categories = pd.DataFrame({\n",
    "    'Percentage': [pct_less_1, pct_more_1, pct_more_2, pct_more_5], \n",
    "    'Latency category': ['< 1 second', '>= 1 second', '>= 2 seconds', '>= 5 seconds']\n",
    "})\n",
    "\n",
    "bar_colors = ['#FF6347', '#4682B4', '#32CD32', '#FFD700']\n",
    "\n",
    "sns.barplot(categories, x='Percentage', y='Latency category', hue='Latency category', alpha=.7, orient='y')\n",
    "\n",
    "for index, row in categories.iterrows():\n",
    "    pct = row['Percentage']\n",
    "    plt.text(pct, index, f'{pct:.2}%', color='black', va=\"center\")\n",
    "\n",
    "plt.title('Percentage of Tasks in Different Latency Categories')\n",
    "plt.xlabel('Latency Category')\n",
    "plt.ylabel('Percentage')"
   ]
  },
  {
   "cell_type": "markdown",
   "id": "7f262f07-aa0d-4573-ba9b-e856990975da",
   "metadata": {},
   "source": [
    "## Same analysis on 3 thresholds\n",
    "\n",
    "We are interested in the following numbers:\n",
    "\n",
    "- 30s (HTTP timeout)\n",
    "- 45 & 80 seconds (Cold starts paper)\n",
    "\n",
    "We want to know what proportion of tasks submitted on the Globus platform present latencies higher than these times."
   ]
  },
  {
   "cell_type": "code",
   "execution_count": 24,
   "id": "159edde9-56e7-43ae-9012-6bd6ca27f438",
   "metadata": {},
   "outputs": [
    {
     "data": {
      "text/plain": [
       "Text(0, 0.5, 'Percentage')"
      ]
     },
     "execution_count": 24,
     "metadata": {},
     "output_type": "execute_result"
    },
    {
     "data": {
      "image/png": "[encoded data removed]",
      "text/plain": [
       "<Figure size 600x600 with 1 Axes>"
      ]
     },
     "metadata": {},
     "output_type": "display_data"
    }
   ],
   "source": [
    "a = latencies_v[(latencies_v >= 30) & (latencies_v < 45)].shape[0] / total_tasks\n",
    "b = latencies_v[(latencies_v >= 45) & (latencies_v < 80)].shape[0] / total_tasks\n",
    "c = latencies_v[latencies_v >= 80].shape[0] / total_tasks\n",
    "\n",
    "plt.figure(figsize=(6, 6))\n",
    "\n",
    "categories = pd.DataFrame({\n",
    "    'Percentage': [a, b, c], \n",
    "    'Latency category': ['>= 30s', '>= 45s', '>= 80s']\n",
    "})\n",
    "\n",
    "bar_colors = ['#FF6347', '#4682B4', '#32CD32']\n",
    "\n",
    "sns.barplot(categories, x='Percentage', y='Latency category', hue='Latency category', alpha=.7, orient='y')\n",
    "\n",
    "for index, row in categories.iterrows():\n",
    "    pct = row['Percentage']\n",
    "    plt.text(pct, index, f'{pct:.2}%', color='black', va=\"center\")\n",
    "\n",
    "plt.title('Percentage of Tasks in Different Latency Categories')\n",
    "plt.xlabel('Latency Category')\n",
    "plt.ylabel('Percentage')"
   ]
  }
 ],
 "metadata": {
  "kernelspec": {
   "display_name": "Python 3 (ipykernel)",
   "language": "python",
   "name": "python3"
  },
  "language_info": {
   "codemirror_mode": {
    "name": "ipython",
    "version": 3
   },
   "file_extension": ".py",
   "mimetype": "text/x-python",
   "name": "python",
   "nbconvert_exporter": "python",
   "pygments_lexer": "ipython3",
   "version": "3.12.8"
  }
 },
 "nbformat": 4,
 "nbformat_minor": 5
}
