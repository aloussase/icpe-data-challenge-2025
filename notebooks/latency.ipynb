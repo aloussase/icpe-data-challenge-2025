{
 "cells": [
  {
   "cell_type": "markdown",
   "id": "40045ada-17ef-438d-b77e-610569ec99d9",
   "metadata": {},
   "source": [
    "# ICPE Data Challenge 2024\n",
    "\n",
    "This notebook contains analyses of the Globus dataset with the aim to analyze what proportion of tasks submitted on the platform are not latency-sensitive: that is, they are delayable.\n",
    "\n",
    "Our findings here can further support the idea of delaying tasks in serverless architectures to improve latency and throughput of latency-sensitive tasks, and also result in fewer resource usage and cost for the users of the platform."
   ]
  },
  {
   "cell_type": "code",
   "execution_count": 1,
   "id": "6707336e-304c-4896-aac6-b72935b297eb",
   "metadata": {},
   "outputs": [],
   "source": [
    "import pandas as pd\n",
    "import numpy as np\n",
    "import seaborn as sns\n",
    "import math\n",
    "import matplotlib.pyplot as plt"
   ]
  },
  {
   "cell_type": "code",
   "execution_count": 2,
   "id": "c752f71d-2499-4916-a243-8b355cd42e20",
   "metadata": {},
   "outputs": [],
   "source": [
    "sns.set_style('whitegrid')"
   ]
  },
  {
   "cell_type": "code",
   "execution_count": 3,
   "id": "6fc45e2a-de0c-486d-9f5d-bc4796a0d5a0",
   "metadata": {},
   "outputs": [],
   "source": [
    "tasks = pd.read_csv(\"../datasets/GlobusComputeDataset-v1-tasks.csv\")"
   ]
  },
  {
   "cell_type": "code",
   "execution_count": 4,
   "id": "943d2d35-0a69-4858-9c83-e817cfdd9f5f",
   "metadata": {},
   "outputs": [],
   "source": [
    "tasks = tasks.dropna(subset=['received', 'result_received'])"
   ]
  },
  {
   "cell_type": "code",
   "execution_count": 5,
   "id": "9bc29c8f-0c03-4a1e-9b4a-4b72a72e1f1c",
   "metadata": {},
   "outputs": [],
   "source": [
    "functions = pd.read_csv(\"../datasets/GlobusComputeDataset-v1-functions.csv\")"
   ]
  },
  {
   "cell_type": "markdown",
   "id": "8c5b394f-e21b-4f2c-a2f2-89dfbfa41626",
   "metadata": {},
   "source": [
    "## Analyzing task latencies"
   ]
  },
  {
   "cell_type": "code",
   "execution_count": 17,
   "id": "bf9ad811-3440-4da9-841e-aeffa04b1c91",
   "metadata": {},
   "outputs": [],
   "source": [
    "task_latencies = pd.DataFrame({\"Task latency (seconds)\": (tasks[\"result_received\"] - tasks[\"received\"]) / 1000000000})"
   ]
  },
  {
   "cell_type": "code",
   "execution_count": 18,
   "id": "e006f9a7-20a8-4f1c-ae6b-bceaf1d73269",
   "metadata": {},
   "outputs": [],
   "source": [
    "total_tasks = task_latencies.shape[0]"
   ]
  },
  {
   "cell_type": "code",
   "execution_count": 19,
   "id": "584b718a-baba-4676-9eab-e83da6b23782",
   "metadata": {},
   "outputs": [],
   "source": [
    "latencies_v = task_latencies['Task latency (seconds)']"
   ]
  },
  {
   "cell_type": "code",
   "execution_count": null,
   "id": "5ff30a1b-5544-4700-b73e-7f632b91e177",
   "metadata": {},
   "outputs": [],
   "source": [
    "plt.figure(figsize=(10, 10))\n",
    "\n",
    "ax = sns.histplot(\n",
    "    data=task_latencies,\n",
    "    bins=math.ceil(math.log2(total_tasks) + 1),\n",
    "    log_scale=True\n",
    ")\n",
    "\n",
    "ax.get_legend().remove()\n",
    "\n",
    "for rect in ax.patches:\n",
    "    width, height = rect.get_width(), rect.get_height()\n",
    "    x = rect.get_x()\n",
    "\n",
    "    if height < 50000: continue\n",
    "    \n",
    "    bin_mask = (latencies_v >= x) & (latencies_v < x + width)\n",
    "    bin_mean = latencies_v[bin_mask].mean().mean()\n",
    "    \n",
    "    plt.text(x + width/2., height, f\"{bin_mean:.03}s\", ha='center', va='bottom', rotation=45)\n",
    "\n",
    "plt.ylabel('')\n",
    "plt.xlabel('Task latencies from received to response received (seconds)')"
   ]
  },
  {
   "cell_type": "code",
   "execution_count": null,
   "id": "92a73d3b-30f7-4320-99ca-97912ac7ea76",
   "metadata": {},
   "outputs": [],
   "source": [
    "plt.figure(figsize=(10, 10))\n",
    "\n",
    "ax = sns.histplot(\n",
    "    data=task_latencies,\n",
    "    bins=math.ceil(math.log2(total_tasks) + 1),\n",
    "    log_scale=True, element=\"step\", fill=False,\n",
    "    cumulative=True, stat=\"density\", common_norm=False\n",
    ")\n",
    "\n",
    "ax.get_legend().remove()\n",
    "\n",
    "mean_0_1 = latencies_v[(latencies_v <= 1) & (latencies_v >= 0)].mean()\n",
    "mean_0_2 = latencies_v[(latencies_v > 1) & (latencies_v <= 5)].mean()\n",
    "mean_0_3 = latencies_v[(latencies_v > 5) & (latencies_v <= 100)].mean()\n",
    "\n",
    "plt.axvline(x=1, color='r', linestyle='--', label=f'Mean at [0, 1]')\n",
    "plt.text(1.1, 0.3, f'{mean_0_1:.2f}s', ha=\"left\", va=\"bottom\")\n",
    "\n",
    "plt.axvline(x=5, color='purple', linestyle='--', label=f'Mean at (1, 5]')\n",
    "plt.text(6, 0.5, f'{mean_0_2:.2f}s', ha=\"left\", va=\"bottom\")\n",
    "\n",
    "plt.axvline(x=100, color='g', linestyle='--', label=f'Mean at (5, 100]')\n",
    "plt.text(120, 0.3, f'{mean_0_3:.2f}s', ha=\"left\", va=\"bottom\")\n",
    "\n",
    "plt.legend()\n",
    "\n",
    "plt.ylabel('CDF')\n",
    "plt.xlabel('Task latencies from received to response received (seconds)')"
   ]
  },
  {
   "cell_type": "code",
   "execution_count": 11,
   "id": "76dd45aa-2ca8-492b-9ff4-b1c3fb430f8d",
   "metadata": {},
   "outputs": [],
   "source": [
    "less_than_1_second = latencies_v[latencies_v < 1]\n",
    "more_than_1_second = latencies_v[latencies_v >= 1]\n",
    "more_than_2_seconds = latencies_v[latencies_v >= 2]\n",
    "more_than_5_seconds = latencies_v[latencies_v >= 5]"
   ]
  },
  {
   "cell_type": "code",
   "execution_count": 12,
   "id": "516daa49-414e-4263-a7dc-7ee83b1df347",
   "metadata": {},
   "outputs": [],
   "source": [
    "pct_less_1 = less_than_1_second.shape[0] / total_tasks\n",
    "pct_more_1 = more_than_1_second.shape[0] / total_tasks\n",
    "pct_more_2 = more_than_2_seconds.shape[0] / total_tasks\n",
    "pct_more_5 = more_than_5_seconds.shape[0] / total_tasks"
   ]
  },
  {
   "cell_type": "code",
   "execution_count": null,
   "id": "50702294-8d97-4eb3-a302-198f370a8c57",
   "metadata": {},
   "outputs": [],
   "source": [
    "plt.figure(figsize=(10, 10))\n",
    "\n",
    "categories = pd.DataFrame({\n",
    "    'Percentage': [pct_less_1, pct_more_1, pct_more_2, pct_more_5], \n",
    "    'Latency category': ['< 1 second', '>= 1 second', '>= 2 seconds', '>= 5 seconds']\n",
    "})\n",
    "\n",
    "bar_colors = ['#FF6347', '#4682B4', '#32CD32', '#FFD700']\n",
    "\n",
    "sns.barplot(categories, x='Percentage', y='Latency category', hue='Latency category', alpha=.7, orient='y')\n",
    "\n",
    "for index, row in categories.iterrows():\n",
    "    pct = row['Percentage']\n",
    "    plt.text(pct, index, f'{pct:.2}%', color='black', va=\"center\")\n",
    "\n",
    "plt.title('Percentage of Tasks in Different Latency Categories')\n",
    "plt.xlabel('Latency Category')\n",
    "plt.ylabel('Percentage')"
   ]
  },
  {
   "cell_type": "markdown",
   "id": "7f262f07-aa0d-4573-ba9b-e856990975da",
   "metadata": {},
   "source": [
    "## Same analysis on 3 thresholds\n",
    "\n",
    "We are interested in the following numbers:\n",
    "\n",
    "- 30s (HTTP timeout)\n",
    "- 45 & 80 seconds (Cold starts paper)\n",
    "\n",
    "We want to know what proportion of tasks submitted on the Globus platform present latencies higher than these times."
   ]
  },
  {
   "cell_type": "code",
   "execution_count": 24,
   "id": "159edde9-56e7-43ae-9012-6bd6ca27f438",
   "metadata": {},
   "outputs": [
    {
     "data": {
      "text/plain": [
       "Text(0, 0.5, 'Percentage')"
      ]
     },
     "execution_count": 24,
     "metadata": {},
     "output_type": "execute_result"
    },
    {
     "data": {
      "image/png": "[encoded data removed]",
      "text/plain": [
       "<Figure size 600x600 with 1 Axes>"
      ]
     },
     "metadata": {},
     "output_type": "display_data"
    }
   ],
   "source": [
    "a = latencies_v[(latencies_v >= 30) & (latencies_v < 45)].shape[0] / total_tasks\n",
    "b = latencies_v[(latencies_v >= 45) & (latencies_v < 80)].shape[0] / total_tasks\n",
    "c = latencies_v[latencies_v >= 80].shape[0] / total_tasks\n",
    "\n",
    "plt.figure(figsize=(6, 6))\n",
    "\n",
    "categories = pd.DataFrame({\n",
    "    'Percentage': [a, b, c], \n",
    "    'Latency category': ['>= 30s', '>= 45s', '>= 80s']\n",
    "})\n",
    "\n",
    "bar_colors = ['#FF6347', '#4682B4', '#32CD32']\n",
    "\n",
    "sns.barplot(categories, x='Percentage', y='Latency category', hue='Latency category', alpha=.7, orient='y')\n",
    "\n",
    "for index, row in categories.iterrows():\n",
    "    pct = row['Percentage']\n",
    "    plt.text(pct, index, f'{pct:.2}%', color='black', va=\"center\")\n",
    "\n",
    "plt.title('Percentage of Tasks in Different Latency Categories')\n",
    "plt.xlabel('Latency Category')\n",
    "plt.ylabel('Percentage')"
   ]
  },
  {
   "cell_type": "markdown",
   "id": "62caa54b-0de2-4e38-a35e-84af143c3f8e",
   "metadata": {},
   "source": [
    "## Analyzing task function categories\n",
    "\n",
    "The following cells use private datasets so you will probably not be able to run them :)"
   ]
  },
  {
   "cell_type": "code",
   "execution_count": 6,
   "id": "701559cd-c128-40e1-a4b7-c254adc511a4",
   "metadata": {},
   "outputs": [],
   "source": [
    "fmappings = pd.read_csv('../datasets/functions_collect.csv', sep=\";\", header=0, names=['ID', 'category'])"
   ]
  },
  {
   "cell_type": "code",
   "execution_count": 26,
   "id": "f7cc1741-200b-452c-b298-e78b5ceb99e2",
   "metadata": {},
   "outputs": [
    {
     "data": {
      "text/html": [
       "<div>\n",
       "<style scoped>\n",
       "    .dataframe tbody tr th:only-of-type {\n",
       "        vertical-align: middle;\n",
       "    }\n",
       "\n",
       "    .dataframe tbody tr th {\n",
       "        vertical-align: top;\n",
       "    }\n",
       "\n",
       "    .dataframe thead th {\n",
       "        text-align: right;\n",
       "    }\n",
       "</style>\n",
       "<table border=\"1\" class=\"dataframe\">\n",
       "  <thead>\n",
       "    <tr style=\"text-align: right;\">\n",
       "      <th></th>\n",
       "      <th>ID</th>\n",
       "      <th>category</th>\n",
       "    </tr>\n",
       "  </thead>\n",
       "  <tbody>\n",
       "    <tr>\n",
       "      <th>0</th>\n",
       "      <td>0065bac2-ae2b-6e2d-0a1a-82c35e209c61</td>\n",
       "      <td>ML</td>\n",
       "    </tr>\n",
       "    <tr>\n",
       "      <th>1</th>\n",
       "      <td>90736664-cd01-d861-0b86-126f38745bea</td>\n",
       "      <td>ML</td>\n",
       "    </tr>\n",
       "    <tr>\n",
       "      <th>2</th>\n",
       "      <td>1282d769-55ef-f054-4659-fc8434516c99</td>\n",
       "      <td>ML</td>\n",
       "    </tr>\n",
       "    <tr>\n",
       "      <th>3</th>\n",
       "      <td>7d24319b-59ea-ab2e-5f71-0f13aa2112c4</td>\n",
       "      <td>ML</td>\n",
       "    </tr>\n",
       "    <tr>\n",
       "      <th>4</th>\n",
       "      <td>6eba3376-d55c-ff47-dd08-c9863393974d</td>\n",
       "      <td>ML</td>\n",
       "    </tr>\n",
       "  </tbody>\n",
       "</table>\n",
       "</div>"
      ],
      "text/plain": [
       "                                     ID category\n",
       "0  0065bac2-ae2b-6e2d-0a1a-82c35e209c61       ML\n",
       "1  90736664-cd01-d861-0b86-126f38745bea       ML\n",
       "2  1282d769-55ef-f054-4659-fc8434516c99       ML\n",
       "3  7d24319b-59ea-ab2e-5f71-0f13aa2112c4       ML\n",
       "4  6eba3376-d55c-ff47-dd08-c9863393974d       ML"
      ]
     },
     "execution_count": 26,
     "metadata": {},
     "output_type": "execute_result"
    }
   ],
   "source": [
    "fmappings.head()"
   ]
  },
  {
   "cell_type": "code",
   "execution_count": 28,
   "id": "12410e4f-885f-41f1-a277-c119d48fcbdc",
   "metadata": {},
   "outputs": [
    {
     "data": {
      "text/plain": [
       "array(['ML', 'Scientific Computing', 'Trivial', 'Job Scheduling',\n",
       "       'Unclustered'], dtype=object)"
      ]
     },
     "execution_count": 28,
     "metadata": {},
     "output_type": "execute_result"
    }
   ],
   "source": [
    "fmappings['category'].unique()"
   ]
  },
  {
   "cell_type": "markdown",
   "id": "0444b04b-5c4c-454b-9c3d-21d70aad4d46",
   "metadata": {},
   "source": [
    "### How many of the functions in the Globus platform fall into categories known to be not latency sensitive?\n",
    "\n",
    "From the cold-starts paper:\n",
    "\n",
    "> In addition, many batch workloads, such as machine learning (ML), require hardware acceleration [27, 32, 58]. Accelerators are an expensive resource and hard to provision and configure [17]. We believe that – in the way how serverless achieved CPU and memory transparency for functions - serverless for batch workloads can achieve accelerator transparency. The corresponding improvements in cost and ease-of-use would make serverless an attractive execution model for accelerated batch workloads.\n",
    "\n",
    "Furthermore, ML inference/training tasks are deemed not latency sensitive in that paper. Data analysis (Scientific computing) is also deemed as not latency sensitve. Thus, it would be interesting if most of them were ML or Scientific Computing tasks."
   ]
  },
  {
   "cell_type": "code",
   "execution_count": 31,
   "id": "994e6e53-3633-4e10-9806-3ea2f9d57390",
   "metadata": {},
   "outputs": [
    {
     "data": {
      "text/html": [
       "<div>\n",
       "<style scoped>\n",
       "    .dataframe tbody tr th:only-of-type {\n",
       "        vertical-align: middle;\n",
       "    }\n",
       "\n",
       "    .dataframe tbody tr th {\n",
       "        vertical-align: top;\n",
       "    }\n",
       "\n",
       "    .dataframe thead th {\n",
       "        text-align: right;\n",
       "    }\n",
       "</style>\n",
       "<table border=\"1\" class=\"dataframe\">\n",
       "  <thead>\n",
       "    <tr style=\"text-align: right;\">\n",
       "      <th></th>\n",
       "      <th>task_uuid</th>\n",
       "      <th>function_uuid</th>\n",
       "      <th>endpoint_uuid</th>\n",
       "      <th>anonymized_user_uuid</th>\n",
       "      <th>argument_size</th>\n",
       "      <th>received</th>\n",
       "      <th>waiting_for_nodes</th>\n",
       "      <th>waiting_for_launch</th>\n",
       "      <th>execution_start</th>\n",
       "      <th>execution_end</th>\n",
       "      <th>result_received</th>\n",
       "    </tr>\n",
       "  </thead>\n",
       "  <tbody>\n",
       "    <tr>\n",
       "      <th>0</th>\n",
       "      <td>0ebb4c18-5d2c-4804-4329-17725d94788d</td>\n",
       "      <td>fef43cc0-a26a-b13f-e956-3455b3d24a41</td>\n",
       "      <td>651538d8-3fc4-98d6-c6a4-f89ecadd2544</td>\n",
       "      <td>def8a1a7-9bc1-e274-1213-3d6cb366d6e9</td>\n",
       "      <td>659.0</td>\n",
       "      <td>1.685553e+18</td>\n",
       "      <td>1.685553e+18</td>\n",
       "      <td>1.685553e+18</td>\n",
       "      <td>1.685553e+18</td>\n",
       "      <td>1.685553e+18</td>\n",
       "      <td>1.685553e+18</td>\n",
       "    </tr>\n",
       "    <tr>\n",
       "      <th>2</th>\n",
       "      <td>fd4004eb-eb9c-d3d6-b718-93cb1c91c6d9</td>\n",
       "      <td>f9fb1939-d0e5-bb44-719b-1fca97a34a8f</td>\n",
       "      <td>9b1d9849-dd78-51bb-cb47-c48ebc5ef9c9</td>\n",
       "      <td>89f2c306-4c36-ffed-2553-e86692f055c3</td>\n",
       "      <td>46.0</td>\n",
       "      <td>1.686630e+18</td>\n",
       "      <td>1.686630e+18</td>\n",
       "      <td>1.686630e+18</td>\n",
       "      <td>1.686630e+18</td>\n",
       "      <td>1.686630e+18</td>\n",
       "      <td>1.686630e+18</td>\n",
       "    </tr>\n",
       "    <tr>\n",
       "      <th>3</th>\n",
       "      <td>2a1e96f6-7999-b066-fc7b-e6adf8567031</td>\n",
       "      <td>eb1a35bc-eb3a-a4dd-c905-82823f30677d</td>\n",
       "      <td>9b1d9849-dd78-51bb-cb47-c48ebc5ef9c9</td>\n",
       "      <td>89f2c306-4c36-ffed-2553-e86692f055c3</td>\n",
       "      <td>46.0</td>\n",
       "      <td>1.686687e+18</td>\n",
       "      <td>1.686687e+18</td>\n",
       "      <td>1.686687e+18</td>\n",
       "      <td>1.686687e+18</td>\n",
       "      <td>1.686687e+18</td>\n",
       "      <td>1.686687e+18</td>\n",
       "    </tr>\n",
       "    <tr>\n",
       "      <th>4</th>\n",
       "      <td>7ee1af85-bec6-50af-50d9-0c9dfbdabcc5</td>\n",
       "      <td>b4c9f870-b439-866c-79ac-abdf5ac4b9a2</td>\n",
       "      <td>57699a1f-f727-b5ef-28db-afaffeb0cb4d</td>\n",
       "      <td>e9abae78-6295-f7c7-17de-fc5f58818a2b</td>\n",
       "      <td>11433.0</td>\n",
       "      <td>1.684338e+18</td>\n",
       "      <td>1.684338e+18</td>\n",
       "      <td>1.684338e+18</td>\n",
       "      <td>1.684338e+18</td>\n",
       "      <td>1.684338e+18</td>\n",
       "      <td>1.684338e+18</td>\n",
       "    </tr>\n",
       "    <tr>\n",
       "      <th>5</th>\n",
       "      <td>ed0aa6c5-514d-45e3-703c-766279b08013</td>\n",
       "      <td>62681d2a-6c86-71dc-0e6c-9e8cd2bab13d</td>\n",
       "      <td>c84b6f08-caf5-11b0-de91-b0f7a2eec775</td>\n",
       "      <td>a7982e64-0077-bc42-12dc-d36ff6e9f672</td>\n",
       "      <td>46.0</td>\n",
       "      <td>1.683751e+18</td>\n",
       "      <td>1.683751e+18</td>\n",
       "      <td>1.683751e+18</td>\n",
       "      <td>1.683751e+18</td>\n",
       "      <td>1.683751e+18</td>\n",
       "      <td>1.683751e+18</td>\n",
       "    </tr>\n",
       "  </tbody>\n",
       "</table>\n",
       "</div>"
      ],
      "text/plain": [
       "                              task_uuid                         function_uuid  \\\n",
       "0  0ebb4c18-5d2c-4804-4329-17725d94788d  fef43cc0-a26a-b13f-e956-3455b3d24a41   \n",
       "2  fd4004eb-eb9c-d3d6-b718-93cb1c91c6d9  f9fb1939-d0e5-bb44-719b-1fca97a34a8f   \n",
       "3  2a1e96f6-7999-b066-fc7b-e6adf8567031  eb1a35bc-eb3a-a4dd-c905-82823f30677d   \n",
       "4  7ee1af85-bec6-50af-50d9-0c9dfbdabcc5  b4c9f870-b439-866c-79ac-abdf5ac4b9a2   \n",
       "5  ed0aa6c5-514d-45e3-703c-766279b08013  62681d2a-6c86-71dc-0e6c-9e8cd2bab13d   \n",
       "\n",
       "                          endpoint_uuid                  anonymized_user_uuid  \\\n",
       "0  651538d8-3fc4-98d6-c6a4-f89ecadd2544  def8a1a7-9bc1-e274-1213-3d6cb366d6e9   \n",
       "2  9b1d9849-dd78-51bb-cb47-c48ebc5ef9c9  89f2c306-4c36-ffed-2553-e86692f055c3   \n",
       "3  9b1d9849-dd78-51bb-cb47-c48ebc5ef9c9  89f2c306-4c36-ffed-2553-e86692f055c3   \n",
       "4  57699a1f-f727-b5ef-28db-afaffeb0cb4d  e9abae78-6295-f7c7-17de-fc5f58818a2b   \n",
       "5  c84b6f08-caf5-11b0-de91-b0f7a2eec775  a7982e64-0077-bc42-12dc-d36ff6e9f672   \n",
       "\n",
       "   argument_size      received  waiting_for_nodes  waiting_for_launch  \\\n",
       "0          659.0  1.685553e+18       1.685553e+18        1.685553e+18   \n",
       "2           46.0  1.686630e+18       1.686630e+18        1.686630e+18   \n",
       "3           46.0  1.686687e+18       1.686687e+18        1.686687e+18   \n",
       "4        11433.0  1.684338e+18       1.684338e+18        1.684338e+18   \n",
       "5           46.0  1.683751e+18       1.683751e+18        1.683751e+18   \n",
       "\n",
       "   execution_start  execution_end  result_received  \n",
       "0     1.685553e+18   1.685553e+18     1.685553e+18  \n",
       "2     1.686630e+18   1.686630e+18     1.686630e+18  \n",
       "3     1.686687e+18   1.686687e+18     1.686687e+18  \n",
       "4     1.684338e+18   1.684338e+18     1.684338e+18  \n",
       "5     1.683751e+18   1.683751e+18     1.683751e+18  "
      ]
     },
     "execution_count": 31,
     "metadata": {},
     "output_type": "execute_result"
    }
   ],
   "source": [
    "tasks.head()"
   ]
  },
  {
   "cell_type": "code",
   "execution_count": 7,
   "id": "651d4b4e-2194-4ac5-bda8-f35d0f5e1e9f",
   "metadata": {},
   "outputs": [],
   "source": [
    "cat = tasks.merge(fmappings, left_on='function_uuid', right_on='ID', how='inner')"
   ]
  },
  {
   "cell_type": "code",
   "execution_count": 10,
   "id": "014d581a-7b1c-4729-99d5-e969218db75b",
   "metadata": {},
   "outputs": [
    {
     "data": {
      "text/html": [
       "<div>\n",
       "<style scoped>\n",
       "    .dataframe tbody tr th:only-of-type {\n",
       "        vertical-align: middle;\n",
       "    }\n",
       "\n",
       "    .dataframe tbody tr th {\n",
       "        vertical-align: top;\n",
       "    }\n",
       "\n",
       "    .dataframe thead th {\n",
       "        text-align: right;\n",
       "    }\n",
       "</style>\n",
       "<table border=\"1\" class=\"dataframe\">\n",
       "  <thead>\n",
       "    <tr style=\"text-align: right;\">\n",
       "      <th></th>\n",
       "      <th>task_uuid</th>\n",
       "      <th>function_uuid</th>\n",
       "      <th>endpoint_uuid</th>\n",
       "      <th>anonymized_user_uuid</th>\n",
       "      <th>argument_size</th>\n",
       "      <th>received</th>\n",
       "      <th>waiting_for_nodes</th>\n",
       "      <th>waiting_for_launch</th>\n",
       "      <th>execution_start</th>\n",
       "      <th>execution_end</th>\n",
       "      <th>result_received</th>\n",
       "      <th>ID</th>\n",
       "      <th>category</th>\n",
       "    </tr>\n",
       "  </thead>\n",
       "  <tbody>\n",
       "    <tr>\n",
       "      <th>0</th>\n",
       "      <td>0ebb4c18-5d2c-4804-4329-17725d94788d</td>\n",
       "      <td>fef43cc0-a26a-b13f-e956-3455b3d24a41</td>\n",
       "      <td>651538d8-3fc4-98d6-c6a4-f89ecadd2544</td>\n",
       "      <td>def8a1a7-9bc1-e274-1213-3d6cb366d6e9</td>\n",
       "      <td>659.0</td>\n",
       "      <td>1.685553e+18</td>\n",
       "      <td>1.685553e+18</td>\n",
       "      <td>1.685553e+18</td>\n",
       "      <td>1.685553e+18</td>\n",
       "      <td>1.685553e+18</td>\n",
       "      <td>1.685553e+18</td>\n",
       "      <td>fef43cc0-a26a-b13f-e956-3455b3d24a41</td>\n",
       "      <td>ML</td>\n",
       "    </tr>\n",
       "    <tr>\n",
       "      <th>1</th>\n",
       "      <td>0ebb4c18-5d2c-4804-4329-17725d94788d</td>\n",
       "      <td>fef43cc0-a26a-b13f-e956-3455b3d24a41</td>\n",
       "      <td>651538d8-3fc4-98d6-c6a4-f89ecadd2544</td>\n",
       "      <td>def8a1a7-9bc1-e274-1213-3d6cb366d6e9</td>\n",
       "      <td>659.0</td>\n",
       "      <td>1.685553e+18</td>\n",
       "      <td>1.685553e+18</td>\n",
       "      <td>1.685553e+18</td>\n",
       "      <td>1.685553e+18</td>\n",
       "      <td>1.685553e+18</td>\n",
       "      <td>1.685553e+18</td>\n",
       "      <td>fef43cc0-a26a-b13f-e956-3455b3d24a41</td>\n",
       "      <td>ML</td>\n",
       "    </tr>\n",
       "    <tr>\n",
       "      <th>2</th>\n",
       "      <td>0ebb4c18-5d2c-4804-4329-17725d94788d</td>\n",
       "      <td>fef43cc0-a26a-b13f-e956-3455b3d24a41</td>\n",
       "      <td>651538d8-3fc4-98d6-c6a4-f89ecadd2544</td>\n",
       "      <td>def8a1a7-9bc1-e274-1213-3d6cb366d6e9</td>\n",
       "      <td>659.0</td>\n",
       "      <td>1.685553e+18</td>\n",
       "      <td>1.685553e+18</td>\n",
       "      <td>1.685553e+18</td>\n",
       "      <td>1.685553e+18</td>\n",
       "      <td>1.685553e+18</td>\n",
       "      <td>1.685553e+18</td>\n",
       "      <td>fef43cc0-a26a-b13f-e956-3455b3d24a41</td>\n",
       "      <td>ML</td>\n",
       "    </tr>\n",
       "    <tr>\n",
       "      <th>3</th>\n",
       "      <td>0ebb4c18-5d2c-4804-4329-17725d94788d</td>\n",
       "      <td>fef43cc0-a26a-b13f-e956-3455b3d24a41</td>\n",
       "      <td>651538d8-3fc4-98d6-c6a4-f89ecadd2544</td>\n",
       "      <td>def8a1a7-9bc1-e274-1213-3d6cb366d6e9</td>\n",
       "      <td>659.0</td>\n",
       "      <td>1.685553e+18</td>\n",
       "      <td>1.685553e+18</td>\n",
       "      <td>1.685553e+18</td>\n",
       "      <td>1.685553e+18</td>\n",
       "      <td>1.685553e+18</td>\n",
       "      <td>1.685553e+18</td>\n",
       "      <td>fef43cc0-a26a-b13f-e956-3455b3d24a41</td>\n",
       "      <td>ML</td>\n",
       "    </tr>\n",
       "    <tr>\n",
       "      <th>4</th>\n",
       "      <td>0ebb4c18-5d2c-4804-4329-17725d94788d</td>\n",
       "      <td>fef43cc0-a26a-b13f-e956-3455b3d24a41</td>\n",
       "      <td>651538d8-3fc4-98d6-c6a4-f89ecadd2544</td>\n",
       "      <td>def8a1a7-9bc1-e274-1213-3d6cb366d6e9</td>\n",
       "      <td>659.0</td>\n",
       "      <td>1.685553e+18</td>\n",
       "      <td>1.685553e+18</td>\n",
       "      <td>1.685553e+18</td>\n",
       "      <td>1.685553e+18</td>\n",
       "      <td>1.685553e+18</td>\n",
       "      <td>1.685553e+18</td>\n",
       "      <td>fef43cc0-a26a-b13f-e956-3455b3d24a41</td>\n",
       "      <td>Scientific Computing</td>\n",
       "    </tr>\n",
       "  </tbody>\n",
       "</table>\n",
       "</div>"
      ],
      "text/plain": [
       "                              task_uuid                         function_uuid  \\\n",
       "0  0ebb4c18-5d2c-4804-4329-17725d94788d  fef43cc0-a26a-b13f-e956-3455b3d24a41   \n",
       "1  0ebb4c18-5d2c-4804-4329-17725d94788d  fef43cc0-a26a-b13f-e956-3455b3d24a41   \n",
       "2  0ebb4c18-5d2c-4804-4329-17725d94788d  fef43cc0-a26a-b13f-e956-3455b3d24a41   \n",
       "3  0ebb4c18-5d2c-4804-4329-17725d94788d  fef43cc0-a26a-b13f-e956-3455b3d24a41   \n",
       "4  0ebb4c18-5d2c-4804-4329-17725d94788d  fef43cc0-a26a-b13f-e956-3455b3d24a41   \n",
       "\n",
       "                          endpoint_uuid                  anonymized_user_uuid  \\\n",
       "0  651538d8-3fc4-98d6-c6a4-f89ecadd2544  def8a1a7-9bc1-e274-1213-3d6cb366d6e9   \n",
       "1  651538d8-3fc4-98d6-c6a4-f89ecadd2544  def8a1a7-9bc1-e274-1213-3d6cb366d6e9   \n",
       "2  651538d8-3fc4-98d6-c6a4-f89ecadd2544  def8a1a7-9bc1-e274-1213-3d6cb366d6e9   \n",
       "3  651538d8-3fc4-98d6-c6a4-f89ecadd2544  def8a1a7-9bc1-e274-1213-3d6cb366d6e9   \n",
       "4  651538d8-3fc4-98d6-c6a4-f89ecadd2544  def8a1a7-9bc1-e274-1213-3d6cb366d6e9   \n",
       "\n",
       "   argument_size      received  waiting_for_nodes  waiting_for_launch  \\\n",
       "0          659.0  1.685553e+18       1.685553e+18        1.685553e+18   \n",
       "1          659.0  1.685553e+18       1.685553e+18        1.685553e+18   \n",
       "2          659.0  1.685553e+18       1.685553e+18        1.685553e+18   \n",
       "3          659.0  1.685553e+18       1.685553e+18        1.685553e+18   \n",
       "4          659.0  1.685553e+18       1.685553e+18        1.685553e+18   \n",
       "\n",
       "   execution_start  execution_end  result_received  \\\n",
       "0     1.685553e+18   1.685553e+18     1.685553e+18   \n",
       "1     1.685553e+18   1.685553e+18     1.685553e+18   \n",
       "2     1.685553e+18   1.685553e+18     1.685553e+18   \n",
       "3     1.685553e+18   1.685553e+18     1.685553e+18   \n",
       "4     1.685553e+18   1.685553e+18     1.685553e+18   \n",
       "\n",
       "                                     ID              category  \n",
       "0  fef43cc0-a26a-b13f-e956-3455b3d24a41                    ML  \n",
       "1  fef43cc0-a26a-b13f-e956-3455b3d24a41                    ML  \n",
       "2  fef43cc0-a26a-b13f-e956-3455b3d24a41                    ML  \n",
       "3  fef43cc0-a26a-b13f-e956-3455b3d24a41                    ML  \n",
       "4  fef43cc0-a26a-b13f-e956-3455b3d24a41  Scientific Computing  "
      ]
     },
     "execution_count": 10,
     "metadata": {},
     "output_type": "execute_result"
    }
   ],
   "source": [
    "cat.head()"
   ]
  },
  {
   "cell_type": "code",
   "execution_count": 8,
   "id": "94f5a735-9544-45b6-94f1-47b452090d0d",
   "metadata": {},
   "outputs": [],
   "source": [
    "cat = cat[['ID', 'category', 'received', 'result_received']]"
   ]
  },
  {
   "cell_type": "code",
   "execution_count": 10,
   "id": "16769f85-ecf3-4fc9-8eb0-53bdc46b1742",
   "metadata": {},
   "outputs": [
    {
     "data": {
      "text/html": [
       "<div>\n",
       "<style scoped>\n",
       "    .dataframe tbody tr th:only-of-type {\n",
       "        vertical-align: middle;\n",
       "    }\n",
       "\n",
       "    .dataframe tbody tr th {\n",
       "        vertical-align: top;\n",
       "    }\n",
       "\n",
       "    .dataframe thead th {\n",
       "        text-align: right;\n",
       "    }\n",
       "</style>\n",
       "<table border=\"1\" class=\"dataframe\">\n",
       "  <thead>\n",
       "    <tr style=\"text-align: right;\">\n",
       "      <th></th>\n",
       "      <th>ID</th>\n",
       "      <th>category</th>\n",
       "      <th>received</th>\n",
       "      <th>result_received</th>\n",
       "    </tr>\n",
       "  </thead>\n",
       "  <tbody>\n",
       "    <tr>\n",
       "      <th>0</th>\n",
       "      <td>fef43cc0-a26a-b13f-e956-3455b3d24a41</td>\n",
       "      <td>ML</td>\n",
       "      <td>1.685553e+18</td>\n",
       "      <td>1.685553e+18</td>\n",
       "    </tr>\n",
       "    <tr>\n",
       "      <th>1</th>\n",
       "      <td>fef43cc0-a26a-b13f-e956-3455b3d24a41</td>\n",
       "      <td>ML</td>\n",
       "      <td>1.685553e+18</td>\n",
       "      <td>1.685553e+18</td>\n",
       "    </tr>\n",
       "    <tr>\n",
       "      <th>2</th>\n",
       "      <td>fef43cc0-a26a-b13f-e956-3455b3d24a41</td>\n",
       "      <td>ML</td>\n",
       "      <td>1.685553e+18</td>\n",
       "      <td>1.685553e+18</td>\n",
       "    </tr>\n",
       "    <tr>\n",
       "      <th>3</th>\n",
       "      <td>fef43cc0-a26a-b13f-e956-3455b3d24a41</td>\n",
       "      <td>ML</td>\n",
       "      <td>1.685553e+18</td>\n",
       "      <td>1.685553e+18</td>\n",
       "    </tr>\n",
       "    <tr>\n",
       "      <th>4</th>\n",
       "      <td>fef43cc0-a26a-b13f-e956-3455b3d24a41</td>\n",
       "      <td>Scientific Computing</td>\n",
       "      <td>1.685553e+18</td>\n",
       "      <td>1.685553e+18</td>\n",
       "    </tr>\n",
       "  </tbody>\n",
       "</table>\n",
       "</div>"
      ],
      "text/plain": [
       "                                     ID              category      received  \\\n",
       "0  fef43cc0-a26a-b13f-e956-3455b3d24a41                    ML  1.685553e+18   \n",
       "1  fef43cc0-a26a-b13f-e956-3455b3d24a41                    ML  1.685553e+18   \n",
       "2  fef43cc0-a26a-b13f-e956-3455b3d24a41                    ML  1.685553e+18   \n",
       "3  fef43cc0-a26a-b13f-e956-3455b3d24a41                    ML  1.685553e+18   \n",
       "4  fef43cc0-a26a-b13f-e956-3455b3d24a41  Scientific Computing  1.685553e+18   \n",
       "\n",
       "   result_received  \n",
       "0     1.685553e+18  \n",
       "1     1.685553e+18  \n",
       "2     1.685553e+18  \n",
       "3     1.685553e+18  \n",
       "4     1.685553e+18  "
      ]
     },
     "execution_count": 10,
     "metadata": {},
     "output_type": "execute_result"
    }
   ],
   "source": [
    "cat.head()"
   ]
  },
  {
   "cell_type": "code",
   "execution_count": 9,
   "id": "ab4778ce-1704-47e9-823e-ad79b7b9785b",
   "metadata": {},
   "outputs": [],
   "source": [
    "category_counts = cat.value_counts(subset=['category']).reset_index()"
   ]
  },
  {
   "cell_type": "code",
   "execution_count": 17,
   "id": "0c7256bc-8800-420b-8936-0e4901ab1563",
   "metadata": {},
   "outputs": [
    {
     "data": {
      "text/html": [
       "<div>\n",
       "<style scoped>\n",
       "    .dataframe tbody tr th:only-of-type {\n",
       "        vertical-align: middle;\n",
       "    }\n",
       "\n",
       "    .dataframe tbody tr th {\n",
       "        vertical-align: top;\n",
       "    }\n",
       "\n",
       "    .dataframe thead th {\n",
       "        text-align: right;\n",
       "    }\n",
       "</style>\n",
       "<table border=\"1\" class=\"dataframe\">\n",
       "  <thead>\n",
       "    <tr style=\"text-align: right;\">\n",
       "      <th></th>\n",
       "      <th>category</th>\n",
       "      <th>count</th>\n",
       "    </tr>\n",
       "  </thead>\n",
       "  <tbody>\n",
       "    <tr>\n",
       "      <th>0</th>\n",
       "      <td>Trivial</td>\n",
       "      <td>48346499</td>\n",
       "    </tr>\n",
       "    <tr>\n",
       "      <th>1</th>\n",
       "      <td>Scientific Computing</td>\n",
       "      <td>4793634</td>\n",
       "    </tr>\n",
       "    <tr>\n",
       "      <th>2</th>\n",
       "      <td>Job Scheduling</td>\n",
       "      <td>2512814</td>\n",
       "    </tr>\n",
       "    <tr>\n",
       "      <th>3</th>\n",
       "      <td>ML</td>\n",
       "      <td>871443</td>\n",
       "    </tr>\n",
       "    <tr>\n",
       "      <th>4</th>\n",
       "      <td>Unclustered</td>\n",
       "      <td>7871</td>\n",
       "    </tr>\n",
       "  </tbody>\n",
       "</table>\n",
       "</div>"
      ],
      "text/plain": [
       "               category     count\n",
       "0               Trivial  48346499\n",
       "1  Scientific Computing   4793634\n",
       "2        Job Scheduling   2512814\n",
       "3                    ML    871443\n",
       "4           Unclustered      7871"
      ]
     },
     "execution_count": 17,
     "metadata": {},
     "output_type": "execute_result"
    }
   ],
   "source": [
    "category_counts"
   ]
  },
  {
   "cell_type": "code",
   "execution_count": 11,
   "id": "fa2162a8-3a40-40be-abb9-a1cc7d579801",
   "metadata": {},
   "outputs": [
    {
     "data": {
      "image/png": "[encoded data removed]",
      "text/plain": [
       "<Figure size 1000x600 with 2 Axes>"
      ]
     },
     "metadata": {},
     "output_type": "display_data"
    }
   ],
   "source": [
    "fig, (ax1, ax2) = plt.subplots(ncols=2, figsize=(10, 6), sharey=True)\n",
    "\n",
    "sns.barplot(category_counts, x='count', y='category', alpha=.7, orient='y', ax=ax1)\n",
    "for c in ax1.containers: ax1.bar_label(c, fmt='{:.0f}')\n",
    "\n",
    "sns.barplot(category_counts[~category_counts['category'].str.match(r\"Trivial|Unclustered\")], x='count', y='category', alpha=.7, orient='y', ax=ax2)\n",
    "for c in ax2.containers: ax2.bar_label(c, fmt='{:.0f}')\n",
    "\n",
    "fig.suptitle('Number of Function Invocations per Cluster')\n",
    "fig.tight_layout()"
   ]
  },
  {
   "cell_type": "markdown",
   "id": "555b7240-3ce3-48b3-9983-47e89f195add",
   "metadata": {},
   "source": [
    "### What does the relation between a function's category and it's corresponding task latency look like?\n",
    "\n",
    "Knowing this will give use confidence that functions from a given category are in fact latency insensitive, but it doesn't mean that if a function has a low latency it is not latency insensitive.\n",
    "\n",
    "For this, we are going to add a new column to the tasks dataset indicating the type of latency if presents:\n",
    "\n",
    "- LOW if latency is less than 30s\n",
    "- 30 if latency is more than 30s but less than 45s\n",
    "- 45 if latency is more than 45s but less than 80s\n",
    "- 80 if latency is more than 80s\n",
    "\n",
    "With this new column, we can compute the correlation between the latency type and function cluster. Since we are working with categorical data, we can use Cramer's V."
   ]
  },
  {
   "cell_type": "code",
   "execution_count": 62,
   "id": "ece869fd-baab-4933-b74f-d963584eb46c",
   "metadata": {},
   "outputs": [
    {
     "data": {
      "text/html": [
       "<div>\n",
       "<style scoped>\n",
       "    .dataframe tbody tr th:only-of-type {\n",
       "        vertical-align: middle;\n",
       "    }\n",
       "\n",
       "    .dataframe tbody tr th {\n",
       "        vertical-align: top;\n",
       "    }\n",
       "\n",
       "    .dataframe thead th {\n",
       "        text-align: right;\n",
       "    }\n",
       "</style>\n",
       "<table border=\"1\" class=\"dataframe\">\n",
       "  <thead>\n",
       "    <tr style=\"text-align: right;\">\n",
       "      <th></th>\n",
       "      <th>task_uuid</th>\n",
       "      <th>function_uuid</th>\n",
       "      <th>endpoint_uuid</th>\n",
       "      <th>anonymized_user_uuid</th>\n",
       "      <th>argument_size</th>\n",
       "      <th>received</th>\n",
       "      <th>waiting_for_nodes</th>\n",
       "      <th>waiting_for_launch</th>\n",
       "      <th>execution_start</th>\n",
       "      <th>execution_end</th>\n",
       "      <th>result_received</th>\n",
       "    </tr>\n",
       "  </thead>\n",
       "  <tbody>\n",
       "    <tr>\n",
       "      <th>0</th>\n",
       "      <td>0ebb4c18-5d2c-4804-4329-17725d94788d</td>\n",
       "      <td>fef43cc0-a26a-b13f-e956-3455b3d24a41</td>\n",
       "      <td>651538d8-3fc4-98d6-c6a4-f89ecadd2544</td>\n",
       "      <td>def8a1a7-9bc1-e274-1213-3d6cb366d6e9</td>\n",
       "      <td>659.0</td>\n",
       "      <td>1.685553e+18</td>\n",
       "      <td>1.685553e+18</td>\n",
       "      <td>1.685553e+18</td>\n",
       "      <td>1.685553e+18</td>\n",
       "      <td>1.685553e+18</td>\n",
       "      <td>1.685553e+18</td>\n",
       "    </tr>\n",
       "    <tr>\n",
       "      <th>2</th>\n",
       "      <td>fd4004eb-eb9c-d3d6-b718-93cb1c91c6d9</td>\n",
       "      <td>f9fb1939-d0e5-bb44-719b-1fca97a34a8f</td>\n",
       "      <td>9b1d9849-dd78-51bb-cb47-c48ebc5ef9c9</td>\n",
       "      <td>89f2c306-4c36-ffed-2553-e86692f055c3</td>\n",
       "      <td>46.0</td>\n",
       "      <td>1.686630e+18</td>\n",
       "      <td>1.686630e+18</td>\n",
       "      <td>1.686630e+18</td>\n",
       "      <td>1.686630e+18</td>\n",
       "      <td>1.686630e+18</td>\n",
       "      <td>1.686630e+18</td>\n",
       "    </tr>\n",
       "    <tr>\n",
       "      <th>3</th>\n",
       "      <td>2a1e96f6-7999-b066-fc7b-e6adf8567031</td>\n",
       "      <td>eb1a35bc-eb3a-a4dd-c905-82823f30677d</td>\n",
       "      <td>9b1d9849-dd78-51bb-cb47-c48ebc5ef9c9</td>\n",
       "      <td>89f2c306-4c36-ffed-2553-e86692f055c3</td>\n",
       "      <td>46.0</td>\n",
       "      <td>1.686687e+18</td>\n",
       "      <td>1.686687e+18</td>\n",
       "      <td>1.686687e+18</td>\n",
       "      <td>1.686687e+18</td>\n",
       "      <td>1.686687e+18</td>\n",
       "      <td>1.686687e+18</td>\n",
       "    </tr>\n",
       "    <tr>\n",
       "      <th>4</th>\n",
       "      <td>7ee1af85-bec6-50af-50d9-0c9dfbdabcc5</td>\n",
       "      <td>b4c9f870-b439-866c-79ac-abdf5ac4b9a2</td>\n",
       "      <td>57699a1f-f727-b5ef-28db-afaffeb0cb4d</td>\n",
       "      <td>e9abae78-6295-f7c7-17de-fc5f58818a2b</td>\n",
       "      <td>11433.0</td>\n",
       "      <td>1.684338e+18</td>\n",
       "      <td>1.684338e+18</td>\n",
       "      <td>1.684338e+18</td>\n",
       "      <td>1.684338e+18</td>\n",
       "      <td>1.684338e+18</td>\n",
       "      <td>1.684338e+18</td>\n",
       "    </tr>\n",
       "    <tr>\n",
       "      <th>5</th>\n",
       "      <td>ed0aa6c5-514d-45e3-703c-766279b08013</td>\n",
       "      <td>62681d2a-6c86-71dc-0e6c-9e8cd2bab13d</td>\n",
       "      <td>c84b6f08-caf5-11b0-de91-b0f7a2eec775</td>\n",
       "      <td>a7982e64-0077-bc42-12dc-d36ff6e9f672</td>\n",
       "      <td>46.0</td>\n",
       "      <td>1.683751e+18</td>\n",
       "      <td>1.683751e+18</td>\n",
       "      <td>1.683751e+18</td>\n",
       "      <td>1.683751e+18</td>\n",
       "      <td>1.683751e+18</td>\n",
       "      <td>1.683751e+18</td>\n",
       "    </tr>\n",
       "  </tbody>\n",
       "</table>\n",
       "</div>"
      ],
      "text/plain": [
       "                              task_uuid                         function_uuid  \\\n",
       "0  0ebb4c18-5d2c-4804-4329-17725d94788d  fef43cc0-a26a-b13f-e956-3455b3d24a41   \n",
       "2  fd4004eb-eb9c-d3d6-b718-93cb1c91c6d9  f9fb1939-d0e5-bb44-719b-1fca97a34a8f   \n",
       "3  2a1e96f6-7999-b066-fc7b-e6adf8567031  eb1a35bc-eb3a-a4dd-c905-82823f30677d   \n",
       "4  7ee1af85-bec6-50af-50d9-0c9dfbdabcc5  b4c9f870-b439-866c-79ac-abdf5ac4b9a2   \n",
       "5  ed0aa6c5-514d-45e3-703c-766279b08013  62681d2a-6c86-71dc-0e6c-9e8cd2bab13d   \n",
       "\n",
       "                          endpoint_uuid                  anonymized_user_uuid  \\\n",
       "0  651538d8-3fc4-98d6-c6a4-f89ecadd2544  def8a1a7-9bc1-e274-1213-3d6cb366d6e9   \n",
       "2  9b1d9849-dd78-51bb-cb47-c48ebc5ef9c9  89f2c306-4c36-ffed-2553-e86692f055c3   \n",
       "3  9b1d9849-dd78-51bb-cb47-c48ebc5ef9c9  89f2c306-4c36-ffed-2553-e86692f055c3   \n",
       "4  57699a1f-f727-b5ef-28db-afaffeb0cb4d  e9abae78-6295-f7c7-17de-fc5f58818a2b   \n",
       "5  c84b6f08-caf5-11b0-de91-b0f7a2eec775  a7982e64-0077-bc42-12dc-d36ff6e9f672   \n",
       "\n",
       "   argument_size      received  waiting_for_nodes  waiting_for_launch  \\\n",
       "0          659.0  1.685553e+18       1.685553e+18        1.685553e+18   \n",
       "2           46.0  1.686630e+18       1.686630e+18        1.686630e+18   \n",
       "3           46.0  1.686687e+18       1.686687e+18        1.686687e+18   \n",
       "4        11433.0  1.684338e+18       1.684338e+18        1.684338e+18   \n",
       "5           46.0  1.683751e+18       1.683751e+18        1.683751e+18   \n",
       "\n",
       "   execution_start  execution_end  result_received  \n",
       "0     1.685553e+18   1.685553e+18     1.685553e+18  \n",
       "2     1.686630e+18   1.686630e+18     1.686630e+18  \n",
       "3     1.686687e+18   1.686687e+18     1.686687e+18  \n",
       "4     1.684338e+18   1.684338e+18     1.684338e+18  \n",
       "5     1.683751e+18   1.683751e+18     1.683751e+18  "
      ]
     },
     "execution_count": 62,
     "metadata": {},
     "output_type": "execute_result"
    }
   ],
   "source": [
    "tasks.head()"
   ]
  },
  {
   "cell_type": "code",
   "execution_count": 8,
   "id": "05dd7c3b-694d-4e35-8f58-53e842096f72",
   "metadata": {},
   "outputs": [],
   "source": [
    "tasks['end-to-end'] = (tasks[\"result_received\"] - tasks[\"received\"]) / 1000000000"
   ]
  },
  {
   "cell_type": "code",
   "execution_count": 9,
   "id": "7d4be35b-d62f-4ead-be9b-dc42a4ead846",
   "metadata": {},
   "outputs": [],
   "source": [
    "tasks['latyp'] = np.where(\n",
    "    tasks['end-to-end'] < 30, 'LOW', np.where(\n",
    "    (tasks['end-to-end'] >= 30) & (tasks['end-to-end'] < 45), '30', np.where(\n",
    "    (tasks['end-to-end'] >= 45) & (tasks['end-to-end'] < 80), '45',\n",
    "    '80'\n",
    ")))"
   ]
  },
  {
   "cell_type": "code",
   "execution_count": 12,
   "id": "ce71dbb0-2d77-4a4f-b21b-1c80db13740d",
   "metadata": {},
   "outputs": [],
   "source": [
    "tasks = tasks[['end-to-end', 'latyp', 'function_uuid']].merge(fmappings, left_on='function_uuid', right_on='ID', how='inner')"
   ]
  },
  {
   "cell_type": "code",
   "execution_count": 12,
   "id": "98d4ef86-6fac-455b-8123-1e2280a7d62f",
   "metadata": {},
   "outputs": [],
   "source": [
    "df = tasks[['function_uuid', 'latyp']].merge(fmappings, left_on='function_uuid', right_on='ID', how='inner')"
   ]
  },
  {
   "cell_type": "code",
   "execution_count": 15,
   "id": "ef636ad9-d143-4fe1-bd0e-559f934841fb",
   "metadata": {},
   "outputs": [],
   "source": [
    "df = pd.DataFrame({\n",
    "    'cluster': df['category'].factorize()[0],\n",
    "    'latyp': df['latyp'].factorize()[0]\n",
    "})"
   ]
  },
  {
   "cell_type": "code",
   "execution_count": 16,
   "id": "2cef5f4a-cbc6-485a-8d2e-4c7a42f9a545",
   "metadata": {},
   "outputs": [
    {
     "data": {
      "text/html": [
       "<div>\n",
       "<style scoped>\n",
       "    .dataframe tbody tr th:only-of-type {\n",
       "        vertical-align: middle;\n",
       "    }\n",
       "\n",
       "    .dataframe tbody tr th {\n",
       "        vertical-align: top;\n",
       "    }\n",
       "\n",
       "    .dataframe thead th {\n",
       "        text-align: right;\n",
       "    }\n",
       "</style>\n",
       "<table border=\"1\" class=\"dataframe\">\n",
       "  <thead>\n",
       "    <tr style=\"text-align: right;\">\n",
       "      <th></th>\n",
       "      <th>cluster</th>\n",
       "      <th>latyp</th>\n",
       "    </tr>\n",
       "  </thead>\n",
       "  <tbody>\n",
       "    <tr>\n",
       "      <th>cluster</th>\n",
       "      <td>1.000000</td>\n",
       "      <td>0.003067</td>\n",
       "    </tr>\n",
       "    <tr>\n",
       "      <th>latyp</th>\n",
       "      <td>0.003067</td>\n",
       "      <td>1.000000</td>\n",
       "    </tr>\n",
       "  </tbody>\n",
       "</table>\n",
       "</div>"
      ],
      "text/plain": [
       "          cluster     latyp\n",
       "cluster  1.000000  0.003067\n",
       "latyp    0.003067  1.000000"
      ]
     },
     "execution_count": 16,
     "metadata": {},
     "output_type": "execute_result"
    }
   ],
   "source": [
    "df.corr(method='pearson')"
   ]
  },
  {
   "cell_type": "markdown",
   "id": "19951a48-2dd1-4c5f-b314-00dd0be52c21",
   "metadata": {},
   "source": [
    "### Correlation results\n",
    "\n",
    "- Pearson: 0.003\n",
    "- Spearman: 0.028\n",
    "\n",
    "This goes to show that, in this dataset, the function's cluster type and latency are weakly correlated."
   ]
  },
  {
   "cell_type": "markdown",
   "id": "c80bdb4a-e3d9-4709-bf14-fce2b47fec2e",
   "metadata": {},
   "source": [
    "### What percentage of tasks have latencies higher than 30, 45 and 80s w/o taking into account Trivial function invocations?"
   ]
  },
  {
   "cell_type": "code",
   "execution_count": 22,
   "id": "bdacbe2b-a8b8-4014-ae14-046c8e694784",
   "metadata": {},
   "outputs": [],
   "source": [
    "non_trivial_or_scheduling = tasks.loc[(tasks['category'] != 'Trivial') & (tasks['category'] != 'Job Scheduling') & (tasks['category'] != 'Unclustered')]"
   ]
  },
  {
   "cell_type": "code",
   "execution_count": 23,
   "id": "7a3a3aa5-bcc9-4885-ad64-631d5c7a236f",
   "metadata": {},
   "outputs": [
    {
     "data": {
      "text/plain": [
       "array(['ML', 'Scientific Computing'], dtype=object)"
      ]
     },
     "execution_count": 23,
     "metadata": {},
     "output_type": "execute_result"
    }
   ],
   "source": [
    "non_trivial_or_scheduling['category'].unique()"
   ]
  },
  {
   "cell_type": "code",
   "execution_count": 31,
   "id": "3992acec-e491-4057-9f1e-16d1dd015a87",
   "metadata": {},
   "outputs": [
    {
     "data": {
      "text/plain": [
       "Text(0, 0.5, 'Percentage')"
      ]
     },
     "execution_count": 31,
     "metadata": {},
     "output_type": "execute_result"
    },
    {
     "data": {
      "image/png": "[encoded data removed]",
      "text/plain": [
       "<Figure size 600x600 with 1 Axes>"
      ]
     },
     "metadata": {},
     "output_type": "display_data"
    }
   ],
   "source": [
    "latencies = non_trivial_or_scheduling['end-to-end']\n",
    "total_tasks = latencies.size\n",
    "\n",
    "a_0 = (latencies[latencies < 30].shape[0] / total_tasks) * 100\n",
    "a = (latencies[(latencies >= 30) & (latencies < 45)].shape[0] / total_tasks) * 100\n",
    "b = (latencies[(latencies >= 45) & (latencies < 80)].shape[0] / total_tasks) * 100\n",
    "c = (latencies[latencies >= 80].shape[0] / total_tasks) * 100\n",
    "\n",
    "plt.figure(figsize=(6, 6))\n",
    "\n",
    "categories = pd.DataFrame({\n",
    "    'Percentage': [a_0, a, b, c], \n",
    "    'Latency category': ['< 30s', '>= 30s', '>= 45s', '>= 80s']\n",
    "})\n",
    "\n",
    "sns.barplot(categories, y='Percentage', x='Latency category', hue='Latency category', alpha=.7)\n",
    "\n",
    "for index, row in categories.iterrows():\n",
    "    pct = row['Percentage']\n",
    "    plt.text(index, pct+1, f'{pct:.0f}%', color='black', va=\"center\")\n",
    "\n",
    "plt.title('Percentage of Tasks in Different Latency Categories\\n(Ignoring trivial and job scheduling tasks)')\n",
    "plt.xlabel('Latency Category')\n",
    "plt.ylabel('Percentage')"
   ]
  }
 ],
 "metadata": {
  "kernelspec": {
   "display_name": "Python 3 (ipykernel)",
   "language": "python",
   "name": "python3"
  },
  "language_info": {
   "codemirror_mode": {
    "name": "ipython",
    "version": 3
   },
   "file_extension": ".py",
   "mimetype": "text/x-python",
   "name": "python",
   "nbconvert_exporter": "python",
   "pygments_lexer": "ipython3",
   "version": "3.12.8"
  }
 },
 "nbformat": 4,
 "nbformat_minor": 5
}
